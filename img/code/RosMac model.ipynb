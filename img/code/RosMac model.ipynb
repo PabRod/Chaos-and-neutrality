{
 "cells": [
  {
   "cell_type": "code",
   "execution_count": 1,
   "metadata": {},
   "outputs": [
    {
     "name": "stdout",
     "output_type": "stream",
     "text": [
      "Populating the interactive namespace from numpy and matplotlib\n"
     ]
    }
   ],
   "source": [
    "%pylab inline\n",
    "\n",
    "plt.rcParams['figure.figsize'] = (12, 8)\n",
    "plt.rcParams['font.size'] = 14.0"
   ]
  },
  {
   "cell_type": "code",
   "execution_count": 2,
   "metadata": {
    "collapsed": true
   },
   "outputs": [],
   "source": [
    "import math_biol as mb"
   ]
  },
  {
   "cell_type": "code",
   "execution_count": 158,
   "metadata": {},
   "outputs": [],
   "source": [
    "def Preys(y, S):\n",
    "    (nPreds, nPreys) = S.shape\n",
    "    return y[:,0:nPreys]\n",
    "\n",
    "def Preds(y, S):\n",
    "    (nPreds, nPreys) = S.shape\n",
    "    return y[:,nPreys:]\n",
    "\n",
    "def V(y, S):\n",
    "    return np.dot(S, np.transpose(Preys(y,S)))\n",
    "\n",
    "def C(y, S, g, H): # TODO: test this\n",
    "    return  g * np.dot(np.diag(Preds(y,S)), V(y,S)) / (V(y,S) + H)\n",
    "    \n",
    "\n",
    "def rosmac(y, t, A, S, e, g, l, r, H, K, f):\n",
    "    (nPreds, nPreys) = S.shape\n",
    "    \n",
    "    #Preys = lambda y: y[:,0:nPreys-1]\n",
    "    #Preds = lambda y: y[:,nPreys:]\n",
    "    \n",
    "    \n",
    "    #V = lambda y: np.dot(S, Preys(y))\n",
    "    #C = lambda y: g * np.dot(np.diag(Preds(y),0), V(y)) / (V(y) + H)\n",
    "    dydt = np.zeros((nPreys+nPreds, 1))\n",
    "    \n",
    "    a1 = r * np.diag(Preys(y,S)[0])\n",
    "    a2 = (K - np.dot(A, np.transpose(Preys(y,S)))) / K\n",
    "    dydt[0:nPreys, 0] = np.ravel(np.dot(a1, a2))\n",
    "    \n",
    "    #dydt[0:nPreys, 0] = np.dot((r * np.diag(Preys(y,S)[0])), (K - np.dot(A, np.transpose(Preys(y,S))))) / K\n",
    "    #dydt[0:nPreys, 0] += - np.dot(np.dot(np.diag(Preys(y,S)), np.transpose(S)), C(y,g,H)/V(y,S))\n",
    "    #dydt[0:nPreys, 0] += f\n",
    "    \n",
    "    dydt[nPreys:, 1] = e * C(y,S,g,H) - l * Preds(y,S)\n",
    "    \n",
    "    \n",
    "    #V = @(y) S*Prey(y);\n",
    "    #C = @(y) g.*diag(Pred(y))*V(y)./(V(y) + H);\n",
    "    \n",
    "    \n",
    "    #dydt(1:nPreys, 1) = (r.*diag(Prey(y)))*(K - A*Prey(y))./K - diag(Prey(y))*S'*(C(y)./V(y)) + f;\n",
    "    #dydt(nPreys+1:nPreys+nPreds, 1) = e.*C(y) - l.*Pred(y);\n",
    "    \n",
    "    return dydt"
   ]
  },
  {
   "cell_type": "code",
   "execution_count": 159,
   "metadata": {
    "collapsed": true
   },
   "outputs": [],
   "source": [
    "nPreys = 3\n",
    "nPreds = 2\n",
    "\n",
    "A = np.random.rand(nPreys, nPreys)\n",
    "S = np.random.rand(nPreds, nPreys)\n",
    "\n",
    "settings = {\n",
    "    'A':A,\n",
    "    'S':S,\n",
    "    'e':1,\n",
    "    'g':1,\n",
    "    'l':1,\n",
    "    'r':1,\n",
    "    'H':1,\n",
    "    'K':1,\n",
    "    'f':0\n",
    "}\n",
    "\n",
    "def my_rosmac(y, t):\n",
    "    return rosmac(y, t, **settings)"
   ]
  },
  {
   "cell_type": "code",
   "execution_count": 160,
   "metadata": {
    "collapsed": true
   },
   "outputs": [],
   "source": [
    "y_test = np.random.rand(1, nPreys+nPreds)"
   ]
  },
  {
   "cell_type": "code",
   "execution_count": 161,
   "metadata": {},
   "outputs": [
    {
     "name": "stdout",
     "output_type": "stream",
     "text": [
      "[[ 0.40772614  0.72120476  0.09904686  0.4095956   0.35754086]]\n"
     ]
    }
   ],
   "source": [
    "print(y_test)"
   ]
  },
  {
   "cell_type": "code",
   "execution_count": 162,
   "metadata": {},
   "outputs": [
    {
     "data": {
      "text/plain": [
       "array([[ 0.40772614,  0.72120476,  0.09904686]])"
      ]
     },
     "execution_count": 162,
     "metadata": {},
     "output_type": "execute_result"
    }
   ],
   "source": [
    "Preys(y_test, S)"
   ]
  },
  {
   "cell_type": "code",
   "execution_count": 163,
   "metadata": {},
   "outputs": [
    {
     "data": {
      "text/plain": [
       "array([[ 0.40005247],\n",
       "       [ 0.41381531]])"
      ]
     },
     "execution_count": 163,
     "metadata": {},
     "output_type": "execute_result"
    }
   ],
   "source": [
    "V(y_test,S) / (V(y_test,S) + 1)"
   ]
  },
  {
   "cell_type": "code",
   "execution_count": 164,
   "metadata": {},
   "outputs": [
    {
     "ename": "ValueError",
     "evalue": "shapes (1,) and (2,1) not aligned: 1 (dim 0) != 2 (dim 0)",
     "output_type": "error",
     "traceback": [
      "\u001b[1;31m---------------------------------------------------------------------------\u001b[0m",
      "\u001b[1;31mValueError\u001b[0m                                Traceback (most recent call last)",
      "\u001b[1;32m<ipython-input-164-b7c45b99c60d>\u001b[0m in \u001b[0;36m<module>\u001b[1;34m()\u001b[0m\n\u001b[1;32m----> 1\u001b[1;33m \u001b[0mmy_rosmac\u001b[0m\u001b[1;33m(\u001b[0m\u001b[0my_test\u001b[0m\u001b[1;33m,\u001b[0m \u001b[1;36m0\u001b[0m\u001b[1;33m)\u001b[0m\u001b[1;33m\u001b[0m\u001b[0m\n\u001b[0m",
      "\u001b[1;32m<ipython-input-159-9492803d8872>\u001b[0m in \u001b[0;36mmy_rosmac\u001b[1;34m(y, t)\u001b[0m\n\u001b[0;32m     18\u001b[0m \u001b[1;33m\u001b[0m\u001b[0m\n\u001b[0;32m     19\u001b[0m \u001b[1;32mdef\u001b[0m \u001b[0mmy_rosmac\u001b[0m\u001b[1;33m(\u001b[0m\u001b[0my\u001b[0m\u001b[1;33m,\u001b[0m \u001b[0mt\u001b[0m\u001b[1;33m)\u001b[0m\u001b[1;33m:\u001b[0m\u001b[1;33m\u001b[0m\u001b[0m\n\u001b[1;32m---> 20\u001b[1;33m     \u001b[1;32mreturn\u001b[0m \u001b[0mrosmac\u001b[0m\u001b[1;33m(\u001b[0m\u001b[0my\u001b[0m\u001b[1;33m,\u001b[0m \u001b[0mt\u001b[0m\u001b[1;33m,\u001b[0m \u001b[1;33m**\u001b[0m\u001b[0msettings\u001b[0m\u001b[1;33m)\u001b[0m\u001b[1;33m\u001b[0m\u001b[0m\n\u001b[0m",
      "\u001b[1;32m<ipython-input-158-f282edc3c729>\u001b[0m in \u001b[0;36mrosmac\u001b[1;34m(y, t, A, S, e, g, l, r, H, K, f)\u001b[0m\n\u001b[0;32m     33\u001b[0m     \u001b[1;31m#dydt[0:nPreys-1, 1] += f\u001b[0m\u001b[1;33m\u001b[0m\u001b[1;33m\u001b[0m\u001b[0m\n\u001b[0;32m     34\u001b[0m \u001b[1;33m\u001b[0m\u001b[0m\n\u001b[1;32m---> 35\u001b[1;33m     \u001b[0mdydt\u001b[0m\u001b[1;33m[\u001b[0m\u001b[0mnPreys\u001b[0m\u001b[1;33m:\u001b[0m\u001b[1;33m,\u001b[0m \u001b[1;36m1\u001b[0m\u001b[1;33m]\u001b[0m \u001b[1;33m=\u001b[0m \u001b[0me\u001b[0m \u001b[1;33m*\u001b[0m \u001b[0mC\u001b[0m\u001b[1;33m(\u001b[0m\u001b[0my\u001b[0m\u001b[1;33m,\u001b[0m\u001b[0mS\u001b[0m\u001b[1;33m,\u001b[0m\u001b[0mg\u001b[0m\u001b[1;33m,\u001b[0m\u001b[0mH\u001b[0m\u001b[1;33m)\u001b[0m \u001b[1;33m-\u001b[0m \u001b[0ml\u001b[0m \u001b[1;33m*\u001b[0m \u001b[0mPreds\u001b[0m\u001b[1;33m(\u001b[0m\u001b[0my\u001b[0m\u001b[1;33m,\u001b[0m\u001b[0mS\u001b[0m\u001b[1;33m)\u001b[0m\u001b[1;33m\u001b[0m\u001b[0m\n\u001b[0m\u001b[0;32m     36\u001b[0m \u001b[1;33m\u001b[0m\u001b[0m\n\u001b[0;32m     37\u001b[0m \u001b[1;33m\u001b[0m\u001b[0m\n",
      "\u001b[1;32m<ipython-input-158-f282edc3c729>\u001b[0m in \u001b[0;36mC\u001b[1;34m(y, S, g, H)\u001b[0m\n\u001b[0;32m     11\u001b[0m \u001b[1;33m\u001b[0m\u001b[0m\n\u001b[0;32m     12\u001b[0m \u001b[1;32mdef\u001b[0m \u001b[0mC\u001b[0m\u001b[1;33m(\u001b[0m\u001b[0my\u001b[0m\u001b[1;33m,\u001b[0m \u001b[0mS\u001b[0m\u001b[1;33m,\u001b[0m \u001b[0mg\u001b[0m\u001b[1;33m,\u001b[0m \u001b[0mH\u001b[0m\u001b[1;33m)\u001b[0m\u001b[1;33m:\u001b[0m \u001b[1;31m# TODO: test this\u001b[0m\u001b[1;33m\u001b[0m\u001b[0m\n\u001b[1;32m---> 13\u001b[1;33m     \u001b[1;32mreturn\u001b[0m  \u001b[0mg\u001b[0m \u001b[1;33m*\u001b[0m \u001b[0mnp\u001b[0m\u001b[1;33m.\u001b[0m\u001b[0mdot\u001b[0m\u001b[1;33m(\u001b[0m\u001b[0mnp\u001b[0m\u001b[1;33m.\u001b[0m\u001b[0mdiag\u001b[0m\u001b[1;33m(\u001b[0m\u001b[0mPreds\u001b[0m\u001b[1;33m(\u001b[0m\u001b[0my\u001b[0m\u001b[1;33m,\u001b[0m\u001b[0mS\u001b[0m\u001b[1;33m)\u001b[0m\u001b[1;33m)\u001b[0m\u001b[1;33m,\u001b[0m \u001b[0mV\u001b[0m\u001b[1;33m(\u001b[0m\u001b[0my\u001b[0m\u001b[1;33m,\u001b[0m\u001b[0mS\u001b[0m\u001b[1;33m)\u001b[0m\u001b[1;33m)\u001b[0m \u001b[1;33m/\u001b[0m \u001b[1;33m(\u001b[0m\u001b[0mV\u001b[0m\u001b[1;33m(\u001b[0m\u001b[0my\u001b[0m\u001b[1;33m,\u001b[0m\u001b[0mS\u001b[0m\u001b[1;33m)\u001b[0m \u001b[1;33m+\u001b[0m \u001b[0mH\u001b[0m\u001b[1;33m)\u001b[0m\u001b[1;33m\u001b[0m\u001b[0m\n\u001b[0m\u001b[0;32m     14\u001b[0m \u001b[1;33m\u001b[0m\u001b[0m\n\u001b[0;32m     15\u001b[0m \u001b[1;33m\u001b[0m\u001b[0m\n",
      "\u001b[1;31mValueError\u001b[0m: shapes (1,) and (2,1) not aligned: 1 (dim 0) != 2 (dim 0)"
     ]
    }
   ],
   "source": [
    "my_rosmac(y_test, 0)"
   ]
  },
  {
   "cell_type": "code",
   "execution_count": 146,
   "metadata": {},
   "outputs": [
    {
     "data": {
      "text/plain": [
       "array([[ 0.02213675],\n",
       "       [ 0.09563098],\n",
       "       [ 0.42300736]])"
      ]
     },
     "execution_count": 146,
     "metadata": {},
     "output_type": "execute_result"
    }
   ],
   "source": [
    "a1 = (1 * np.diag(Preys(y_test,S)[0]))\n",
    "a2 = 1 - np.dot(A, np.transpose(Preys(y_test,S)))\n",
    "np.dot(a1, a2)"
   ]
  },
  {
   "cell_type": "code",
   "execution_count": 148,
   "metadata": {},
   "outputs": [
    {
     "name": "stdout",
     "output_type": "stream",
     "text": [
      "[[ 0.]\n",
      " [ 0.]\n",
      " [ 0.]\n",
      " [ 0.]\n",
      " [ 0.]]\n"
     ]
    }
   ],
   "source": [
    "y_zeros = np.zeros((nPreys+nPreds, 1))\n",
    "print(y_zeros)"
   ]
  },
  {
   "cell_type": "code",
   "execution_count": 150,
   "metadata": {},
   "outputs": [
    {
     "data": {
      "text/plain": [
       "array([ 0.,  0.])"
      ]
     },
     "execution_count": 150,
     "metadata": {},
     "output_type": "execute_result"
    }
   ],
   "source": [
    "y_zeros[1:3, 0]"
   ]
  },
  {
   "cell_type": "code",
   "execution_count": null,
   "metadata": {
    "collapsed": true
   },
   "outputs": [],
   "source": []
  }
 ],
 "metadata": {
  "kernelspec": {
   "display_name": "Python 3",
   "language": "python",
   "name": "python3"
  },
  "language_info": {
   "codemirror_mode": {
    "name": "ipython",
    "version": 3
   },
   "file_extension": ".py",
   "mimetype": "text/x-python",
   "name": "python",
   "nbconvert_exporter": "python",
   "pygments_lexer": "ipython3",
   "version": "3.6.3"
  }
 },
 "nbformat": 4,
 "nbformat_minor": 2
}
